{
 "cells": [
  {
   "attachments": {
    "pic1.png": {
     "image/png": "[encoded data removed]"
    },
    "pic2.png": {
     "image/png": "[encoded data removed]"
    },
    "pic3.png": {
     "image/png": "[encoded data removed]"
    }
   },
   "cell_type": "markdown",
   "metadata": {
    "deletable": false,
    "editable": false,
    "run_control": {
     "frozen": true
    }
   },
   "source": [
    "## Описание идеи\n",
    "    Видимая змейкой область ограничена небольшим полем (змеи плохо видят). Размер поля задается параметром rang. По умолчанию его значение равно 2 - число клеток, видимых прямо, слева, сзади и справа змейки. Голова змейки темнее её хвоста.\n",
    "![pic3.png](attachment:pic3.png)    \n",
    "\n",
    "    Препятствия (тело змейки, край поля, капролит) помечаются на поле - 1, фрукт - 2, а пустые клетки - 0.\n",
    "![pic2.png](attachment:pic2.png)\n",
    "       \n",
    "    Пример данного поля будет сохранен в наблюдениях в следующем виде:\n",
    "    [[0. 0. 0. 0. 0. 0. 0. 2. 0. 0. 0. 0. 1. 0. 0. 0. 0. 1. 1. 1. 0. 0. 0. 0. 0.]]     [2]\n",
    "    наблюдение (объект)                                                                целевая переменная (ответ)\n",
    "    \n",
    "    Направление движения (действия) кодируется так: 1 - двигаться влево; 2 - двигаться вправо; 3 - двигаться налево. Данные коды это классы для алгоритма KNN. Направление движения в режиме разметки задается пользователем, см. дальше.   \n",
    "![pic1.png](attachment:pic1.png)\n",
    "    \n",
    "    Порядок действий:\n",
    "    1. В режиме разметки перемещаем змейку стрелками, огибая препятствия, съедая фрукты. \n",
    "    2. Считываем разметку. Смотрим на дисбаланс классов. Используя встроенный в алгоритм KNN скользящий контроль оцениваем качество работы алгоритма.\n",
    "    3. Запускаем змейку в режиме управления (AI = True).\n",
    "    4. После быстрой смерти змейки... 8( пробуем различные методы перебалансировки наблюдений по классам или генерации новых наблюдений. Далее повторяем п.3. "
   ]
  },
  {
   "cell_type": "markdown",
   "metadata": {
    "deletable": false,
    "editable": false
   },
   "source": [
    "## Импорт библиотек"
   ]
  },
  {
   "cell_type": "code",
   "execution_count": 1,
   "metadata": {},
   "outputs": [
    {
     "name": "stdout",
     "output_type": "stream",
     "text": [
      "pygame 2.0.1 (SDL 2.0.14, Python 3.7.6)\n",
      "Hello from the pygame community. https://www.pygame.org/contribute.html\n"
     ]
    }
   ],
   "source": [
    "import numpy as np\n",
    "import pygame as pg\n",
    "import pandas as pd\n",
    "import random\n",
    "import matplotlib.pyplot as plt\n",
    "from tqdm.notebook import tqdm_notebook as tq\n",
    "import seaborn as sns"
   ]
  },
  {
   "cell_type": "markdown",
   "metadata": {},
   "source": [
    "## Задание поля, цвета фруктов и параметров змейки"
   ]
  },
  {
   "cell_type": "code",
   "execution_count": 2,
   "metadata": {},
   "outputs": [],
   "source": [
    "CS = 10  # ширина змейки\n",
    "WIDTH = 50  # ширина поля, ось х\n",
    "HIGH = 50  # высота поля, ось у\n",
    "\n",
    "bg_color = (192, 192, 192)  # цвет фона\n",
    "sn_color = (0, 0, 255)  # цвет змейки\n",
    "\n",
    "# цвет фруктов\n",
    "apple = (255, 0, 0)\n",
    "apple2 = (255, 255, 196)\n",
    "\n",
    "cherry = (192, 0, 0)\n",
    "orange = (255, 153, 0)"
   ]
  },
  {
   "cell_type": "markdown",
   "metadata": {},
   "source": [
    "## Класс змейки"
   ]
  },
  {
   "cell_type": "code",
   "execution_count": 3,
   "metadata": {
    "code_folding": []
   },
   "outputs": [],
   "source": [
    "class Snake:\n",
    "    def __init__(self, lenght=10, rang=3, grow=True):\n",
    "        self.grow = grow  # расти змейке или нет\n",
    "        self.lenght = lenght  # длина нерастущей змейки\n",
    "        self.alive = True\n",
    "        self.timer = 0\n",
    "        self.score = [0]\n",
    "        self.x = []\n",
    "        self.y = []\n",
    "        self.I_see = []  # то, что змейка видит\n",
    "        self.rang = rang  # размер видимой змейкой области\n",
    "        self.all_ones = np.ones((HIGH + self.rang * 2, WIDTH + self.rang * 2))\n",
    "        self.objects = None\n",
    "        self.movements = []\n",
    "\n",
    "        self.direction = 0\n",
    "\n",
    "        key = True\n",
    "\n",
    "        # расположение змейки на поле\n",
    "        while key:\n",
    "            x = random.randrange(0, WIDTH)\n",
    "            y = random.randrange(0, HIGH)\n",
    "\n",
    "            if field[y][x] == 0:\n",
    "                self.x.insert(0, x)\n",
    "                self.y.insert(0, y)\n",
    "                field[self.y[0]][self.x[0]] = 1\n",
    "                key = False\n",
    "\n",
    "        self.plot(delete_tail=False)\n",
    "\n",
    "    def move(self, dx, dy):\n",
    "        # обработка движения змейки\n",
    "        if self.x[0] + dx < 0 or self.x[\n",
    "                0] + dx == WIDTH:  # ударилась о край поля - умерла\n",
    "            self.died()\n",
    "            return (False)\n",
    "\n",
    "        if self.y[0] + dy < 0 or self.y[\n",
    "                0] + dy == HIGH:  # ударилась о край поля - умерла\n",
    "            self.died()\n",
    "            return (False)\n",
    "\n",
    "        if field[self.y[0] + dy][self.x[0] +\n",
    "                                 dx] == 1:  # ударилась в себя - умерла\n",
    "            self.died()\n",
    "            return (False)\n",
    "\n",
    "        if dx > 0: self.direction = 1  # двигаться вправо по полю\n",
    "        if dx < 0: self.direction = 3  # двигаться влево\n",
    "        if dy > 0: self.direction = 2  # двигаться вниз\n",
    "        if dy < 0: self.direction = 0  # двигаться вверх\n",
    "\n",
    "        self.x.insert(0, self.x[0] + dx)\n",
    "        self.y.insert(0, self.y[0] + dy)\n",
    "\n",
    "        delete_tail = True  # удалять хвост или нет\n",
    "        if len(self.x) < self.lenght:\n",
    "            delete_tail = False\n",
    "\n",
    "        self.timer += 1\n",
    "\n",
    "        if field[self.y[0]][self.x[0]] == 2:  # съела фрукт\n",
    "            s_catch.play()\n",
    "            snake.score[-1] += 1\n",
    "            self.timer = 0\n",
    "            if self.grow:\n",
    "                delete_tail = False\n",
    "\n",
    "        field[self.y[0]][\n",
    "            self.x[0]] = 1  # заполнить клетку массива поля головой змеки (1)\n",
    "        self.plot(delete_tail)\n",
    "\n",
    "        return (True)\n",
    "\n",
    "    def what_you_see(self):\n",
    "        # вернуть то, что видит змейка\n",
    "        return (self.I_see)\n",
    "\n",
    "    def died(self):\n",
    "        # если змейка умерла, разрисовать ее в серый цвет\n",
    "        for x, y in zip(self.x, self.y):\n",
    "            pg.draw.rect(window, bg_color, (x * CS, y * CS, CS, CS))\n",
    "            pg.draw.rect(window, (100, 100, 100),\n",
    "                         (x * CS + 1, y * CS + 1, CS - 1, CS - 1))\n",
    "            self.plot_seing_area(0, bg_color)\n",
    "            self.alive = False\n",
    "        pg.display.update()\n",
    "        return\n",
    "\n",
    "    def get_seing_direction(self):\n",
    "        # как змейка повернута относительно поля\n",
    "        if len(self.x) < 2:\n",
    "            return (\"UP\")\n",
    "        if self.x[0] > self.x[1]:\n",
    "            return (\"RIGHT\")\n",
    "        if self.x[0] < self.x[1]:\n",
    "            return (\"LEFT\")\n",
    "        elif self.y[0] < self.y[1]:\n",
    "            return (\"UP\")\n",
    "\n",
    "        return (\"DOWN\")\n",
    "\n",
    "    def plot_seing_area(self, index, color):\n",
    "        # рисовать квадрат видимой змейкой части поля\n",
    "        try:\n",
    "            pg.draw.rect(\n",
    "                window,\n",
    "                color,\n",
    "                (int(self.x[index] * CS - CS * self.rang),\n",
    "                 int(self.y[index] * CS - CS * self.rang),\n",
    "                 int(CS * 2 * self.rang + CS), int(CS * 2 * self.rang + CS)),\n",
    "                width=1)\n",
    "        except:\n",
    "            pass\n",
    "\n",
    "        return\n",
    "\n",
    "    def plot(self, delete_tail):\n",
    "        # удалить квадрат видимой змейкой части поля\n",
    "        try:\n",
    "            self.plot_seing_area(1, bg_color)\n",
    "        except:\n",
    "            pass\n",
    "\n",
    "        if delete_tail:\n",
    "            pg.draw.rect(window, bg_color,\n",
    "                         (self.x[-1] * CS, self.y[-1] * CS, CS, CS))\n",
    "            field[self.y[-1]][self.x[-1]] = 0\n",
    "\n",
    "            self.x.pop()\n",
    "            self.y.pop()\n",
    "        else:\n",
    "            # если хвост растёт, с низкой вероятностью отбрасывать капролит\n",
    "            if random.choice([1] + [0] * 9) and len(self.x) >= self.lenght:\n",
    "                field[self.y[-1]][self.x[-1]] = 1\n",
    "                pg.draw.rect(window, bg_color,\n",
    "                             (self.x[-1] * CS, self.y[-1] * CS, CS, CS))\n",
    "                pg.draw.circle(\n",
    "                    window, (0, 0, 0),\n",
    "                    (self.x[-1] * CS + CS / 2, self.y[-1] * CS + CS / 2),\n",
    "                    CS / 2.5)\n",
    "\n",
    "                self.x.pop()\n",
    "                self.y.pop()\n",
    "\n",
    "        indx = 0\n",
    "        # градиент цвета змейки\n",
    "        stp = 168 / len(self.x)\n",
    "\n",
    "        # рисовать змейку\n",
    "        for x, y in zip(self.x, self.y):\n",
    "            pg.draw.rect(window, (0, int(stp * indx), 255),\n",
    "                         (x * CS, y * CS, CS, CS))\n",
    "            pg.display.update()\n",
    "            indx += 1\n",
    "\n",
    "        # рисовать квадрат видимой змейкой части поля\n",
    "        self.plot_seing_area(0, (0, 0, 0))\n",
    "\n",
    "        pg.display.update()\n",
    "\n",
    "        # заполнение массива поля\n",
    "        self.all_ones[self.rang:HIGH + self.rang, self.rang:WIDTH +\n",
    "                      self.rang] = field\n",
    "        # что змейка видит\n",
    "        sees = self.all_ones[self.y[0]:self.y[0] + self.rang * 2 +\n",
    "                             1, self.x[0]:self.x[0] + self.rang * 2 + 1]\n",
    "        # развернуть видимую часть поля\n",
    "        sees = np.rot90(sees, k=self.direction)\n",
    "\n",
    "        # видимую часть в строчку\n",
    "        sees = np.reshape(sees, (1, -1))\n",
    "        self.I_see = sees\n",
    "\n",
    "        if len(self.x) < self.lenght - 1:\n",
    "            return\n",
    "\n",
    "        # добавляем наблюдение\n",
    "        try:\n",
    "            self.objects = np.concatenate(\n",
    "                (self.objects, np.reshape(sees, (1, -1))))\n",
    "        except:\n",
    "            self.objects = np.reshape(sees, (1, -1))\n",
    "\n",
    "        # добавляем действие к наблюдению\n",
    "        # 2 - двигался прямо; 1 - двигался влево; 3 - двигался вправо\n",
    "        if self.x[0] == self.x[1] == self.x[2]:\n",
    "            self.movements.append(2)\n",
    "        elif self.y[0] == self.y[1] == self.y[2]:\n",
    "            self.movements.append(2)\n",
    "\n",
    "        elif self.x[0] > self.x[1] and self.y[2] < self.y[1]:\n",
    "            self.movements.append(1)\n",
    "        elif self.y[0] > self.y[1] and self.x[1] < self.x[2]:\n",
    "            self.movements.append(1)\n",
    "        elif self.y[1] < self.y[2] and self.x[1] > self.x[0]:\n",
    "            self.movements.append(1)\n",
    "        elif self.x[2] < self.x[1] and self.y[1] > self.y[0]:\n",
    "            self.movements.append(1)\n",
    "\n",
    "        elif self.x[0] < self.x[1] and self.y[2] < self.y[1]:\n",
    "            self.movements.append(3)\n",
    "        elif self.y[0] < self.y[1] and self.x[1] < self.x[2]:\n",
    "            self.movements.append(3)\n",
    "        elif self.y[1] < self.y[2] and self.x[1] < self.x[0]:\n",
    "            self.movements.append(3)\n",
    "        elif self.x[2] < self.x[1] and self.y[1] < self.y[0]:\n",
    "            self.movements.append(3)\n",
    "\n",
    "        if not AI:\n",
    "            print(\"действие\\n\", self.movements[-1])\n",
    "            s = int(np.sqrt(snake.objects.shape[1]))\n",
    "            print(\"\\nвидимое поле\\n\", np.reshape(self.objects[-1], (s, s)))\n",
    "\n",
    "    def get_data(self):\n",
    "        # возвращаем запрошенные наблюдения-действия\n",
    "        return (self.objects, self.movements)"
   ]
  },
  {
   "cell_type": "markdown",
   "metadata": {},
   "source": [
    "## Класс фруктов"
   ]
  },
  {
   "cell_type": "code",
   "execution_count": 4,
   "metadata": {
    "code_folding": [],
    "run_control": {
     "marked": false
    }
   },
   "outputs": [],
   "source": [
    "class Fruits:\n",
    "    def __init__(self, k=20):\n",
    "        self.k = k\n",
    "\n",
    "    def add_fruit(self):\n",
    "        while np.count_nonzero(field == 2.0) < self.k:\n",
    "            x = random.randrange(0, WIDTH)\n",
    "            y = random.randrange(0, HIGH)\n",
    "\n",
    "            if field[y][x] == 0.0:\n",
    "                field[y][x] = 2.0\n",
    "\n",
    "                self.plot(int(x), int(y))\n",
    "\n",
    "    def plot(self, x, y):\n",
    "        r1 = int(CS / 2)\n",
    "        r2 = int(CS / 6)\n",
    "        r3 = int(CS / 5)\n",
    "\n",
    "        choice = random.choice([0, 1, 2])\n",
    "\n",
    "        if choice == 0:\n",
    "            pg.draw.line(window, (0, 0, 0),\n",
    "                         (int(x * CS + r1), int(y * CS + r1)),\n",
    "                         (int(x * CS), int(y * CS)), 2)\n",
    "            pg.draw.circle(window, apple,\n",
    "                           (int(x * CS + CS / 2), int(y * CS + CS / 2)), r1)\n",
    "            pg.draw.circle(window, apple2,\n",
    "                           (int(x * CS + r1 + r2), int(y * CS + r1 - r2)), r2)\n",
    "        elif choice == 1:\n",
    "            center1 = (int(x * CS + CS * 0.25), int(y * CS + CS * 0.75))\n",
    "            center2 = (int(x * CS + CS * 0.75), int(y * CS + CS * 0.5))\n",
    "            center3 = (int(x * CS + CS * 0.25), int(y * CS + CS * 0.25))\n",
    "\n",
    "            pg.draw.line(window, (0, 0, 0), center1, center3, 1)\n",
    "            pg.draw.line(window, (0, 0, 0), center2, center3, 1)\n",
    "\n",
    "            pg.draw.circle(window, cherry, center1, r3)\n",
    "            pg.draw.circle(window, cherry, center2, r3)\n",
    "        else:\n",
    "            pg.draw.circle(window, orange,\n",
    "                           (int(x * CS + CS / 2), int(y * CS + CS / 2)), r1)\n",
    "\n",
    "        pg.display.update()"
   ]
  },
  {
   "cell_type": "markdown",
   "metadata": {},
   "source": [
    "# Разметка. Работа AI"
   ]
  },
  {
   "cell_type": "markdown",
   "metadata": {},
   "source": [
    "## Запуск змейки"
   ]
  },
  {
   "cell_type": "code",
   "execution_count": 10,
   "metadata": {
    "code_folding": [],
    "run_control": {
     "marked": false
    },
    "scrolled": true
   },
   "outputs": [
    {
     "name": "stdout",
     "output_type": "stream",
     "text": [
      "SCORE:  23\n"
     ]
    }
   ],
   "source": [
    "# режим разметки (AI = False) или управления AI\n",
    "AI = True\n",
    "\n",
    "# расти змейке или нет\n",
    "grow = False\n",
    "\n",
    "# количество фруктов\n",
    "fruits = 100\n",
    "\n",
    "# самопереобучение при зацикливании\n",
    "self_training = True\n",
    "\n",
    "# размер видимой змейкой области\n",
    "rang = 2\n",
    "\n",
    "snakes = []\n",
    "run = True\n",
    "\n",
    "# массив поля, 0 - пусто, 1 - препятствие (змейка, край поля, капролит), 2 - фрукт\n",
    "field = np.zeros((HIGH, WIDTH))\n",
    "\n",
    "# окно поля\n",
    "pg.mixer.pre_init(44100, -16, 1, 512)\n",
    "pg.init()\n",
    "s_catch = pg.mixer.Sound('caterpillar_bite.mp3')\n",
    "window = pg.display.set_mode((WIDTH * CS, HIGH * CS))\n",
    "pg.display.set_caption(\"Pensive Snake\")\n",
    "window.fill(bg_color)\n",
    "pg.display.update()\n",
    "\n",
    "some_fruits = Fruits(fruits)\n",
    "some_fruits.add_fruit()\n",
    "\n",
    "if AI:\n",
    "    for i in range(5):  # количество змеек\n",
    "        # rang - размер видимого змейкой поля\n",
    "        # grow - расти змейке, съев фрукт, или нет\n",
    "        snakes.append(Snake(rang=rang, grow=grow))\n",
    "else:\n",
    "    # ручная змейка для разметки\n",
    "    snake = Snake(rang=rang, grow=grow)\n",
    "\n",
    "while run:\n",
    "\n",
    "    if not AI:\n",
    "        # обработка событий клавиатуры\n",
    "        for event in pg.event.get():\n",
    "            if event.type == pg.QUIT:\n",
    "                run = False\n",
    "\n",
    "            dx, dy = 0, 0\n",
    "\n",
    "            if event.type == pg.KEYDOWN:\n",
    "                if event.key == pg.K_DOWN:\n",
    "                    dy += 1\n",
    "                elif event.key == pg.K_UP:\n",
    "                    dy -= 1\n",
    "                elif event.key == pg.K_LEFT:\n",
    "                    dx -= 1\n",
    "                elif event.key == pg.K_RIGHT:\n",
    "                    dx += 1\n",
    "\n",
    "            # если было собыите нажатия клавиш напрявления - двигаем змейку\n",
    "            if dx or dy:\n",
    "                snake.move(dx, dy)\n",
    "\n",
    "    if AI:\n",
    "        for event in pg.event.get():\n",
    "            if event.type == pg.QUIT:\n",
    "                run = False\n",
    "\n",
    "        for snake in snakes:\n",
    "            if snake.alive:\n",
    "                # запрос классификатора о направлении движения\n",
    "                # по видимому змейкой полю\n",
    "                where_to_move = clf.predict(snake.what_you_see())\n",
    "                # расчет направления движения в зависимости от положения змейки\n",
    "                direction = snake.get_seing_direction()\n",
    "\n",
    "                dx, dy = 0, 0\n",
    "\n",
    "                if direction == \"UP\":\n",
    "                    if where_to_move == 1: dx -= 1\n",
    "                    if where_to_move == 2: dy -= 1\n",
    "                    if where_to_move == 3: dx += 1\n",
    "\n",
    "                elif direction == \"DOWN\":\n",
    "                    if where_to_move == 1: dx += 1\n",
    "                    if where_to_move == 2: dy += 1\n",
    "                    if where_to_move == 3: dx -= 1\n",
    "\n",
    "                elif direction == \"LEFT\":\n",
    "                    if where_to_move == 1: dy += 1\n",
    "                    if where_to_move == 2: dx -= 1\n",
    "                    if where_to_move == 3: dy -= 1\n",
    "\n",
    "                elif direction == \"RIGHT\":\n",
    "                    if where_to_move == 1: dy -= 1\n",
    "                    if where_to_move == 2: dx += 1\n",
    "                    if where_to_move == 3: dy += 1\n",
    "\n",
    "                snake.move(dx, dy)\n",
    "\n",
    "                if snake.timer > 100 and self_training == True:\n",
    "                    snake.timer = 0\n",
    "                    clf.change_neihgbors_direction()\n",
    "#                     print(\"Neihgbors direction was changed\")\n",
    "\n",
    "    some_fruits.add_fruit()\n",
    "\n",
    "pg.quit()\n",
    "print(\"SCORE: \", snake.score[0])"
   ]
  },
  {
   "cell_type": "markdown",
   "metadata": {},
   "source": [
    "## Принудительное закрытие поля"
   ]
  },
  {
   "cell_type": "markdown",
   "metadata": {},
   "source": [
    "pg.quit()"
   ]
  },
  {
   "cell_type": "markdown",
   "metadata": {},
   "source": [
    "## Сохранение размеченных данных"
   ]
  },
  {
   "cell_type": "code",
   "execution_count": null,
   "metadata": {
    "code_folding": []
   },
   "outputs": [],
   "source": [
    "# если было ручное управление (разметка), записать разметку для классификатора\n",
    "if not AI:\n",
    "    X, y = snake.get_data()\n",
    "\n",
    "    pd.DataFrame(X).to_pickle(\"objects.pcl\")\n",
    "    pd.DataFrame(y).to_pickle(\"targets.pcl\")\n",
    "\n",
    "# количество наблюдений и признаков\n",
    "print(\"наблюдений:\", X.shape[0], \", признаков:\", X.shape[1])"
   ]
  },
  {
   "cell_type": "markdown",
   "metadata": {
    "deletable": false,
    "editable": false
   },
   "source": [
    "## Чтение разметки. Просмотр баланса классов"
   ]
  },
  {
   "cell_type": "code",
   "execution_count": 6,
   "metadata": {
    "code_folding": [],
    "run_control": {
     "marked": false
    }
   },
   "outputs": [
    {
     "name": "stdout",
     "output_type": "stream",
     "text": [
      "наблюдений: 408 , признаков: 25\n"
     ]
    },
    {
     "data": {
      "image/png": "[encoded data removed]",
      "text/plain": [
       "<Figure size 432x288 with 1 Axes>"
      ]
     },
     "metadata": {
      "needs_background": "light"
     },
     "output_type": "display_data"
    }
   ],
   "source": [
    "def plot_classes(y):\n",
    "    data = {\n",
    "        'налево': len(y[y == 1]),\n",
    "        'прямо': len(y[y == 2]),\n",
    "        'направо': len(y[y == 3])\n",
    "    }\n",
    "\n",
    "    fig, ax = plt.subplots()\n",
    "    names = list(data.keys())\n",
    "    values = list(data.values())\n",
    "\n",
    "    ax.bar(names, values)\n",
    "    plt.show()\n",
    "\n",
    "method = \"(начальный дисбаланс)\"\n",
    "    \n",
    "# считываем разметку\n",
    "X = np.array(pd.read_pickle(\"objects.pcl\"))[:-1]\n",
    "y = np.array(pd.read_pickle(\"targets.pcl\")[0])[1:]\n",
    "\n",
    "# удаляем повторяющиеся наблюдения\n",
    "_, indexes = np.unique(X, axis=0, return_index=True)\n",
    "X = X[indexes, :]\n",
    "y = y[indexes]\n",
    "\n",
    "# количество наблюдений и признаков\n",
    "print(\"наблюдений:\", X.shape[0], \", признаков:\", X.shape[1])\n",
    "\n",
    "X_res, y_res = X, y\n",
    "plot_classes(y_res)"
   ]
  },
  {
   "cell_type": "markdown",
   "metadata": {},
   "source": [
    "##  AI змейки (KNN). Инициализация."
   ]
  },
  {
   "cell_type": "code",
   "execution_count": 7,
   "metadata": {
    "code_folding": [],
    "run_control": {
     "marked": false
    }
   },
   "outputs": [],
   "source": [
    "class KNN:\n",
    "    def __init__(self, k=3, method=\"std\"):\n",
    "        self.k = k\n",
    "        self.method = method\n",
    "        self.task = None\n",
    "        self.last_indexes = []\n",
    "\n",
    "    def change_neihgbors_direction(self):\n",
    "        # метод для смены класса наблюдению в случае зацикливания змейки\n",
    "        index = self.last_indexes[random.randint(0, self.k - 1)]\n",
    "        choice = self.y_train[index]\n",
    "\n",
    "        while choice == self.y_train[index]:\n",
    "            choice = random.choice([1, 2, 3])\n",
    "\n",
    "        self.y_train[index] = choice\n",
    "\n",
    "    def fit(self, X_train, y_train):\n",
    "        self.X_train = X_train\n",
    "        self.y_train = y_train\n",
    "        self.find_task_type(y_train)\n",
    "            \n",
    "    def find_task_type(self, y_train):\n",
    "        # метод распознавания типа решаемой задачи - классификация или регрессия\n",
    "        self.task = \"regression\"\n",
    "        if (y_train == y_train.astype(int)).sum() / len(y_train):\n",
    "            self.task = \"classification\"\n",
    "\n",
    "    def distance(self, x_test, x_train):\n",
    "        return np.sqrt(np.sum((x_test - x_train)**2))\n",
    "\n",
    "    def predict(self, X_test):\n",
    "        labels = [self.find_labels(x_test) for x_test in X_test]\n",
    "        return np.array(labels)\n",
    "\n",
    "    def find_labels(self, x_test):\n",
    "        distances = [self.distance(x_test, x_train) for x_train in self.X_train]\n",
    "        k_nearest = np.argsort(distances)[:self.k]\n",
    "        self.last_indexes = k_nearest\n",
    "        k_labels = [self.y_train[i] for i in k_nearest]\n",
    "\n",
    "        if self.task == \"regression\":\n",
    "            return np.sum(k_labels) / self.k\n",
    "\n",
    "        if self.method == \"std\":\n",
    "            return self.most_common(k_labels)\n",
    "\n",
    "        max_ = max(k_nearest)\n",
    "        alpha = 0.1\n",
    "\n",
    "        k_nearest = [1 / ((i + max_ * alpha) / max_) for i in k_nearest]\n",
    "\n",
    "        a = [i for i in range(int(max(k_labels) + 1))]\n",
    "        summ = [0] * int(max(k_labels) + 1)\n",
    "\n",
    "        for index, value in enumerate(k_nearest):\n",
    "            summ[int(k_labels[index])] += value\n",
    "\n",
    "        return a[np.argsort(summ)[-1]]\n",
    "\n",
    "    def most_common(self, k_labels):\n",
    "        a = tuple(set(k_labels))\n",
    "        most_common = [k_labels.count(i) for i in a]\n",
    "        index = np.argsort(most_common)[-1]\n",
    "\n",
    "        if len(set(most_common)) == 1 or len(most_common) == len(k_labels):\n",
    "            return random.choice(a)\n",
    "\n",
    "        return a[index]\n",
    "    \n",
    "    # методы проверки качества моделей для обоих типов задач\n",
    "    def score(self, predicted, y_test):\n",
    "        return (predicted == y_test).sum() / len(y_test)\n",
    "\n",
    "    def r2(self, predicted, y_test):\n",
    "        return 1 - np.sum((predicted - y_test)**2) / np.sum(\n",
    "            (y_test.mean() - y_test)**2)\n",
    "    \n",
    "    # встроенный метод скользящего контроля (кросс валидация по фолдам)\n",
    "    def cv(self, X, y, cv=5, disable=False):\n",
    "        self.find_task_type(y)\n",
    "        \n",
    "        y = np.reshape(y, (len(y), 1))\n",
    "        data = np.concatenate((X, y), axis=1)\n",
    "        np.random.shuffle(data)\n",
    "\n",
    "        data = pd.DataFrame(data)\n",
    "        score = []\n",
    "\n",
    "        for i in tq(range(cv), desc=\"Скользящий контроль: \", disable=disable):\n",
    "            lenght = int(len(y) / cv)\n",
    "\n",
    "            X_test = data.iloc[i * lenght:i * lenght + lenght, :-1]\n",
    "            X_train = data.drop(index=X_test.index).iloc[:, :-1]\n",
    "\n",
    "            y_test = data.iloc[i * lenght:i * lenght + lenght, -1]\n",
    "            y_train = data.drop(index=X_test.index).iloc[:, -1]\n",
    "\n",
    "            clf = KNN(method=\"new\")\n",
    "            clf.fit(np.array(X_train), np.array(y_train))\n",
    "            predicted = clf.predict(np.array(X_test))\n",
    "\n",
    "            if self.task == \"classification\":\n",
    "                score.append(clf.score(predicted, np.array(y_test)))\n",
    "            else:\n",
    "                score.append(clf.r2(predicted, np.array(y_test)))\n",
    "\n",
    "        return np.array(score)\n",
    "    \n",
    "    # метод оценки важности признаков (permutation importance)\n",
    "    def feature_importance(self, X_res, y_res, cv=5):\n",
    "        clf = KNN()\n",
    "        original = clf.cv(X_res, y_res, cv=cv, disable=True).mean()\n",
    "\n",
    "        importance = []\n",
    "\n",
    "        for i in tq(range(X_res.shape[1]), desc=\"Оценка важности признаков\"):\n",
    "            X_new = X_res.copy()\n",
    "            np.random.shuffle(X_new[:, i])\n",
    "\n",
    "            cv = clf.cv(X_new, y_res, cv=5, disable=True)\n",
    "            importance.append(np.mean(cv))\n",
    "\n",
    "        s = int(np.sqrt(len(importance)))\n",
    "        importance = np.array(importance - original).reshape(s, s)\n",
    "\n",
    "        fig, axs = plt.subplots(figsize=(3, 3))\n",
    "        sns.heatmap(importance, annot=True, vmin=0, fmt='0.2f', ax=axs, cbar=False)\n",
    "        plt.show()"
   ]
  },
  {
   "cell_type": "markdown",
   "metadata": {},
   "source": [
    "## Подбор параметра k алгоритма KNN"
   ]
  },
  {
   "cell_type": "code",
   "execution_count": 42,
   "metadata": {
    "code_folding": [
     14
    ]
   },
   "outputs": [
    {
     "data": {
      "application/vnd.jupyter.widget-view+json": {
       "model_id": "2c23c597d5994fd2864a428510b26996",
       "version_major": 2,
       "version_minor": 0
      },
      "text/plain": [
       "HBox(children=(FloatProgress(value=0.0, max=18.0), HTML(value='')))"
      ]
     },
     "metadata": {},
     "output_type": "display_data"
    },
    {
     "name": "stdout",
     "output_type": "stream",
     "text": [
      "\n",
      "SMOTE\n"
     ]
    },
    {
     "data": {
      "image/png": "[encoded data removed]",
      "text/plain": [
       "<Figure size 432x288 with 1 Axes>"
      ]
     },
     "metadata": {
      "needs_background": "light"
     },
     "output_type": "display_data"
    },
    {
     "name": "stdout",
     "output_type": "stream",
     "text": [
      "Wall time: 1min 37s\n"
     ]
    }
   ],
   "source": [
    "%%time\n",
    "index = np.array([i for i, _ in enumerate(y_res)])\n",
    "mask = np.random.choice([True, False], size=len(y_res), p=[0.5, 0.5])\n",
    "i_tr = index[mask]\n",
    "i_te = index[~mask]\n",
    "\n",
    "X_train = X_res[i_tr]\n",
    "X_test = X_res[i_te]\n",
    "y_train = y_res[i_tr]\n",
    "y_test = y_res[i_te]\n",
    "\n",
    "columns = [\"k\", \"class1\", \"class2\", \"class3\"]\n",
    "df = pd.DataFrame(columns=columns)\n",
    "\n",
    "for i in tq(range(3, 21, 1)):\n",
    "\n",
    "    clf = KNN(i)\n",
    "    clf.fit(X_train, y_train)\n",
    "    predicted = clf.predict(X_test)\n",
    "    score = [i]\n",
    "\n",
    "    for j in [1, 2, 3]:\n",
    "\n",
    "        index = np.where(y_test == j)\n",
    "        score.append(\n",
    "            (predicted[index] == y_test[index]).sum() / len(y_test[index]))\n",
    "\n",
    "    tempr = pd.DataFrame([score], columns=columns)\n",
    "    df = df.append(tempr, ignore_index=True)\n",
    "\n",
    "print(method)\n",
    "plt.plot(df.iloc[:, 0], df.iloc[:, 1:])\n",
    "plt.legend([\"влево\", \"прямо\", \"направо\"], loc=\"best\")\n",
    "plt.xlabel(\"k-ближайших соседей\")\n",
    "plt.ylabel(\"доля верных ответов\")\n",
    "plt.ylim(0, 1.1)\n",
    "plt.xlim(df.k.min(), df.k.max())\n",
    "plt.show()"
   ]
  },
  {
   "cell_type": "code",
   "execution_count": 8,
   "metadata": {
    "code_folding": [],
    "run_control": {
     "marked": false
    }
   },
   "outputs": [
    {
     "data": {
      "application/vnd.jupyter.widget-view+json": {
       "model_id": "1ff70b22fc264de19c9bb38919690068",
       "version_major": 2,
       "version_minor": 0
      },
      "text/plain": [
       "HBox(children=(FloatProgress(value=0.0, description='Скользящий контроль: ', max=5.0, style=ProgressStyle(desc…"
      ]
     },
     "metadata": {},
     "output_type": "display_data"
    },
    {
     "name": "stdout",
     "output_type": "stream",
     "text": [
      "\n",
      "*** Результат скользящего контроля ***\n",
      "(начальный дисбаланс)\n",
      "\n",
      "Доли верных ответов: [0.61728395 0.64197531 0.59259259 0.67901235 0.69135802]\n",
      "Среднее: 0.64\n"
     ]
    }
   ],
   "source": [
    "# скользяящий контроль по 5-ти фолдам\n",
    "clf = KNN(k=3)\n",
    "clf.fit(X_res, y_res)\n",
    "cv = clf.cv(X_res, y_res, cv=5)\n",
    "\n",
    "print(\"*** Результат скользящего контроля ***\")\n",
    "print(method)\n",
    "print(\"\\nДоли верных ответов:\", cv)\n",
    "print(\"Среднее: %0.2f\" % cv.mean())"
   ]
  },
  {
   "cell_type": "markdown",
   "metadata": {},
   "source": [
    "## Оценка важности признаков\n",
    "Перемешиваем значения признака. Вычисляем долю верных ответов (скользящи контролем), которую сравниваем с изначальным значением. Если доля верных ответов снизилась, значит признак важен для модели. Но, данная схема не работает если есть коррелируемые признаки."
   ]
  },
  {
   "cell_type": "code",
   "execution_count": 19,
   "metadata": {},
   "outputs": [
    {
     "data": {
      "text/plain": [
       "array([[0., 0., 0., ..., 1., 0., 0.],\n",
       "       [0., 0., 0., ..., 1., 0., 1.],\n",
       "       [0., 0., 0., ..., 1., 0., 2.],\n",
       "       ...,\n",
       "       [2., 0., 2., ..., 1., 1., 1.],\n",
       "       [2., 2., 0., ..., 1., 0., 0.],\n",
       "       [2., 2., 2., ..., 0., 2., 0.]])"
      ]
     },
     "execution_count": 19,
     "metadata": {},
     "output_type": "execute_result"
    }
   ],
   "source": [
    "X_res"
   ]
  },
  {
   "cell_type": "code",
   "execution_count": 20,
   "metadata": {
    "code_folding": [],
    "scrolled": true
   },
   "outputs": [
    {
     "data": {
      "application/vnd.jupyter.widget-view+json": {
       "model_id": "fc1be82e4b94408ca1e2e146830c14e1",
       "version_major": 2,
       "version_minor": 0
      },
      "text/plain": [
       "HBox(children=(FloatProgress(value=0.0, description='Оценка важности признаков', max=25.0, style=ProgressStyle…"
      ]
     },
     "metadata": {},
     "output_type": "display_data"
    },
    {
     "name": "stdout",
     "output_type": "stream",
     "text": [
      "\n"
     ]
    },
    {
     "data": {
      "image/png": "[encoded data removed]",
      "text/plain": [
       "<Figure size 216x216 with 1 Axes>"
      ]
     },
     "metadata": {
      "needs_background": "light"
     },
     "output_type": "display_data"
    }
   ],
   "source": [
    "# оценка важности признаков (perturbation importance)\n",
    "clf.feature_importance(X_res, y_res)"
   ]
  },
  {
   "cell_type": "markdown",
   "metadata": {},
   "source": [
    "# Перебалансировка классов"
   ]
  },
  {
   "cell_type": "markdown",
   "metadata": {},
   "source": [
    "## Метод перебалансировки Random sampling"
   ]
  },
  {
   "cell_type": "code",
   "execution_count": 21,
   "metadata": {
    "code_folding": []
   },
   "outputs": [],
   "source": [
    "def random_sampling(X_, y_, method=\"over-sampling\"):\n",
    "    class_list = list(set(y_))\n",
    "    cnt = [len(y_[y_ == i]) for i in class_list]\n",
    "\n",
    "    min_ = cnt[np.argsort(cnt)[0]]\n",
    "    max_ = cnt[np.argsort(cnt)[-1]]\n",
    "\n",
    "    for i in [0, 1, 2]:\n",
    "        amount = cnt[i]\n",
    "        cls = class_list[i]\n",
    "        X_c = X_[y_ == cls]\n",
    "\n",
    "        if method == \"over-sampling\":\n",
    "            while amount < max_:\n",
    "                ind = random.randrange(0, X_c.shape[0])\n",
    "                X_bs = np.array([X_c[ind]])\n",
    "                X_ = np.concatenate((X_, X_bs), axis=0)\n",
    "                y_ = np.append(y_, cls)\n",
    "                amount += 1\n",
    "\n",
    "        if method == \"under-sampling\":\n",
    "            while amount > min_:\n",
    "                y_index = np.where(y_ == cls)[0]\n",
    "                index = random.choice(y_index)\n",
    "                X_ = np.delete(X_, index, axis=0)\n",
    "                y_ = np.delete(y_, index)\n",
    "                amount -= 1\n",
    "\n",
    "    return X_, y_"
   ]
  },
  {
   "attachments": {
    "delete.png": {
     "image/png": "[encoded data removed]"
    }
   },
   "cell_type": "markdown",
   "metadata": {},
   "source": [
    "### Under sampling \n",
    "    Перебалансировка удалением случайного наблюдения из больших классов до числа наблюдений соответствующих минимальному классу\n",
    "![delete.png](attachment:delete.png)"
   ]
  },
  {
   "cell_type": "code",
   "execution_count": 32,
   "metadata": {
    "code_folding": []
   },
   "outputs": [
    {
     "data": {
      "application/vnd.jupyter.widget-view+json": {
       "model_id": "b0b3e73bb1eb4e43b3467fcc3161003e",
       "version_major": 2,
       "version_minor": 0
      },
      "text/plain": [
       "HBox(children=(FloatProgress(value=0.0, description='Скользящий контроль: ', max=5.0, style=ProgressStyle(desc…"
      ]
     },
     "metadata": {},
     "output_type": "display_data"
    },
    {
     "name": "stdout",
     "output_type": "stream",
     "text": [
      "\n",
      "*** Перебалансировка классов до минимального ***\n"
     ]
    },
    {
     "data": {
      "image/png": "[encoded data removed]",
      "text/plain": [
       "<Figure size 432x288 with 1 Axes>"
      ]
     },
     "metadata": {
      "needs_background": "light"
     },
     "output_type": "display_data"
    },
    {
     "name": "stdout",
     "output_type": "stream",
     "text": [
      "*** Результат скользящего контроля ***\n",
      "\n",
      "Доли верных ответов: [0.39473684 0.57894737 0.55263158 0.55263158 0.42105263]\n",
      "Среднее: 0.50\n",
      "Wall time: 1.37 s\n"
     ]
    }
   ],
   "source": [
    "%%time\n",
    "method = \"under-sampling\"\n",
    "X_res, y_res = random_sampling(X, y, method=method)\n",
    "\n",
    "clf = KNN(k=3)\n",
    "clf.fit(X_res, y_res)\n",
    "cv = clf.cv(X_res, y_res, cv=5)\n",
    "\n",
    "print(\"*** Перебалансировка классов до минимального ***\")\n",
    "plot_classes(y_res)\n",
    "print(\"*** Результат скользящего контроля ***\")\n",
    "print(\"\\nДоли верных ответов:\", cv)\n",
    "print(\"Среднее: %0.2f\" % cv.mean())"
   ]
  },
  {
   "attachments": {
    "add.png": {
     "image/png": "[encoded data removed]"
    }
   },
   "cell_type": "markdown",
   "metadata": {},
   "source": [
    "### Over sampling\n",
    "    Перебалансировка добавлением случайного наблюдения малым классам до числа наблюдений соответствующих максимальному классу (своеобразный Bootstrap).\n",
    "![add.png](attachment:add.png)"
   ]
  },
  {
   "cell_type": "code",
   "execution_count": 38,
   "metadata": {
    "code_folding": []
   },
   "outputs": [
    {
     "data": {
      "application/vnd.jupyter.widget-view+json": {
       "model_id": "d2c82dc5306a413db3fa53e667d9f69b",
       "version_major": 2,
       "version_minor": 0
      },
      "text/plain": [
       "HBox(children=(FloatProgress(value=0.0, description='Скользящий контроль: ', max=5.0, style=ProgressStyle(desc…"
      ]
     },
     "metadata": {},
     "output_type": "display_data"
    },
    {
     "name": "stdout",
     "output_type": "stream",
     "text": [
      "\n",
      "*** Перебалансировка классов до максимального ***\n"
     ]
    },
    {
     "data": {
      "image/png": "[encoded data removed]",
      "text/plain": [
       "<Figure size 432x288 with 1 Axes>"
      ]
     },
     "metadata": {
      "needs_background": "light"
     },
     "output_type": "display_data"
    },
    {
     "name": "stdout",
     "output_type": "stream",
     "text": [
      "*** Результат скользящего контроля ***\n",
      "\n",
      "Доли верных ответов: [0.89506173 0.81481481 0.86419753 0.77777778 0.83950617]\n",
      "Среднее: 0.84\n",
      "Wall time: 17.3 s\n"
     ]
    }
   ],
   "source": [
    "%%time\n",
    "method = \"over-sampling\"\n",
    "X_res, y_res = random_sampling(X, y, method=method)\n",
    "\n",
    "clf = KNN(k=3)\n",
    "clf.fit(X_res, y_res)\n",
    "\n",
    "cv = clf.cv(X_res, y_res, cv=5)\n",
    "\n",
    "print(\"*** Перебалансировка классов до максимального ***\")\n",
    "plot_classes(y_res)\n",
    "print(\"*** Результат скользящего контроля ***\")\n",
    "print(\"\\nДоли верных ответов:\", cv)\n",
    "print(\"Среднее: %0.2f\" % cv.mean())"
   ]
  },
  {
   "attachments": {
    "smote.png": {
     "image/png": "[encoded data removed]"
    }
   },
   "cell_type": "markdown",
   "metadata": {},
   "source": [
    "## Генерация новых наблюдений. Класс SMOTE: Synthetic Minority Over-sampling Technique\n",
    "    Случайно выбирается наблюдение. Для него определяются k ближайших. Случайно выбирается одно из них. Новое наблюдение генерируется умножением случайного значения от 0 до 1 на расстояние между каждым признаком этой пары наблюдений. В дальнейшем сгенерированное наблюдение не используется при поиске k ближайших при создании новых наблюдений.\n",
    "    \n",
    "    Таким образом можно создавать наблюдения для малых классов балансируя выборку, а также добавлять наблюдения к наибольшему классу, увеличивая общее число наблюдений.\n",
    "![smote.png](attachment:smote.png)"
   ]
  },
  {
   "cell_type": "code",
   "execution_count": 46,
   "metadata": {
    "code_folding": [],
    "run_control": {
     "marked": false
    }
   },
   "outputs": [],
   "source": [
    "class SMOTE:\n",
    "    def __init__(self, k=4, observations=0):\n",
    "        self.k = k\n",
    "        self.ob = observations\n",
    "\n",
    "    def fit(self, X, y):\n",
    "        self.X_res = X\n",
    "        self.y_res = y\n",
    "\n",
    "    def distance(self, x1, x2):\n",
    "        return np.sqrt(np.sum((x1 - x2)**2))\n",
    "\n",
    "    def transform(self):\n",
    "        self.classes = np.unique(self.y_res)\n",
    "        # определение числа наблюдений по каждому классу\n",
    "        self.counts = [np.where(self.y_res == i)[0].shape[0] for i in self.classes]\n",
    "\n",
    "        if self.ob == 0:\n",
    "            self.ob = max(self.counts)\n",
    "\n",
    "        for ind, c in enumerate(self.classes):\n",
    "            amount = self.counts[ind]\n",
    "            \n",
    "            if amount == self.ob:\n",
    "                continue\n",
    "\n",
    "            X_c = self.X_res[self.y_res == c]\n",
    "\n",
    "            sample_len = self.ob - amount\n",
    "            sample_ind = [random.randrange(0, amount - 1) for i in range(sample_len)]\n",
    "\n",
    "            # продолжаем генерировать наблюдения до заданного количества\n",
    "            while amount < self.ob:\n",
    "\n",
    "                for ind in sample_ind:\n",
    "                    x_parent = X_c[ind] # здесь будут исходные наблюдения\n",
    "                    x_new = [] # здесь будут новые наблюдения\n",
    "\n",
    "                    # находим k ближайших\n",
    "                    distances = [self.distance(x_parent, x) for x in X_c]\n",
    "                    k_nearest = np.argsort(distances)[1:self.k + 1]\n",
    "                    \n",
    "                    # выбираем случайное из них\n",
    "                    x_random = X_c[random.choice(k_nearest)]\n",
    "                    # умножаем расстояние между ними на случайное значение\n",
    "                    delta = np.abs(x_parent - x_random) * random.random()\n",
    "\n",
    "                    # полученное растояние конвертируем в признак\n",
    "                    for x_p, x_r, dlt in zip(x_parent, x_random, delta):\n",
    "                        x_new.append(min(x_p, x_r) + dlt)\n",
    "                    \n",
    "                    x_new = np.array([x_new])\n",
    "                    \n",
    "                    # добавляем сгенерированное наблюдение\n",
    "                    self.X_res = np.concatenate((self.X_res, x_new), axis=0)\n",
    "                    self.y_res = np.append(self.y_res, c)\n",
    "\n",
    "                    amount += 1\n",
    "\n",
    "        return self.X_res, self.y_res"
   ]
  },
  {
   "cell_type": "code",
   "execution_count": 47,
   "metadata": {},
   "outputs": [
    {
     "data": {
      "application/vnd.jupyter.widget-view+json": {
       "model_id": "9f6544bcd7614814bc2cae3e297ab7da",
       "version_major": 2,
       "version_minor": 0
      },
      "text/plain": [
       "HBox(children=(FloatProgress(value=0.0, description='Скользящий контроль: ', max=5.0, style=ProgressStyle(desc…"
      ]
     },
     "metadata": {},
     "output_type": "display_data"
    },
    {
     "name": "stdout",
     "output_type": "stream",
     "text": [
      "\n",
      "SMOTE, добавлено наблюдений по каждому классу до: 1000\n"
     ]
    },
    {
     "data": {
      "image/png": "[encoded data removed]",
      "text/plain": [
       "<Figure size 432x288 with 1 Axes>"
      ]
     },
     "metadata": {
      "needs_background": "light"
     },
     "output_type": "display_data"
    },
    {
     "name": "stdout",
     "output_type": "stream",
     "text": [
      "*** Результат скользящего контроля ***\n",
      "\n",
      "Доли верных ответов: [0.94       0.96333333 0.95666667 0.94166667 0.94333333]\n",
      "Среднее: 0.95\n",
      "Wall time: 4min 6s\n"
     ]
    }
   ],
   "source": [
    "%%time\n",
    "# добавить наблюдений до\n",
    "observations = 1000\n",
    "method = \"SMOTE\"\n",
    "\n",
    "# по ближайшим k соседям\n",
    "res = SMOTE(k=3, observations=observations)\n",
    "res.fit(X, y)\n",
    "\n",
    "X_res, y_res = res.transform()\n",
    "\n",
    "clf = KNN(k=3)\n",
    "clf.fit(X_res, y_res)\n",
    "\n",
    "cv = clf.cv(X_res, y_res, cv=5)\n",
    "\n",
    "print(\"SMOTE, добавлено наблюдений по каждому классу до:\", observations)\n",
    "plot_classes(y_res)\n",
    "print(\"*** Результат скользящего контроля ***\")\n",
    "print(\"\\nДоли верных ответов:\", cv)\n",
    "print(\"Среднее: %0.2f\" % cv.mean())"
   ]
  },
  {
   "cell_type": "markdown",
   "metadata": {},
   "source": [
    "# Установка виджетов (widgets, Nbextensions)\n",
    "Установка полезных виджетов: \n",
    "    - Contents (окошко оглавления слева)\n",
    "    - Variable inspector (окошко переменных справа)\n",
    "    - ScrollDown (атоматическая прокрутка вывода)\n",
    "    - CodeFolding (скрытие кода)"
   ]
  },
  {
   "cell_type": "code",
   "execution_count": 1,
   "metadata": {},
   "outputs": [
    {
     "name": "stdout",
     "output_type": "stream",
     "text": [ ]
    }
   ],
   "source": [
    "!pip install jupyter_contrib_nbextensions"
   ]
  },
  {
   "cell_type": "code",
   "execution_count": null,
   "metadata": {},
   "outputs": [],
   "source": [
    "# перезагрузить jupyter"
   ]
  },
  {
   "cell_type": "code",
   "execution_count": 1,
   "metadata": {},
   "outputs": [
    {
     "name": "stderr",
     "output_type": "stream",
     "text": [ ]
    },
    {
     "name": "stderr",
     "output_type": "stream",
     "text": [ ]
    }
   ],
   "source": [
    "!jupyter contrib nbextension install --user"
   ]
  },
  {
   "cell_type": "code",
   "execution_count": null,
   "metadata": {},
   "outputs": [],
   "source": [
    "# перезагрузить jupyter"
   ]
  }
 ],
 "metadata": {
  "kernelspec": {
   "display_name": "Python 3 (ipykernel)",
   "language": "python",
   "name": "python3"
  },
  "language_info": {
   "codemirror_mode": {
    "name": "ipython",
    "version": 3
   },
   "file_extension": ".py",
   "mimetype": "text/x-python",
   "name": "python",
   "nbconvert_exporter": "python",
   "pygments_lexer": "ipython3",
   "version": "3.8.3"
  },
  "toc": {
   "base_numbering": 1,
   "nav_menu": {},
   "number_sections": true,
   "sideBar": true,
   "skip_h1_title": false,
   "title_cell": "Table of Contents",
   "title_sidebar": "Contents",
   "toc_cell": false,
   "toc_position": {
    "height": "759px",
    "left": "93px",
    "top": "110px",
    "width": "165px"
   },
   "toc_section_display": true,
   "toc_window_display": true
  },
  "varInspector": {
   "cols": {
    "lenName": 16,
    "lenType": 16,
    "lenVar": 40
   },
   "kernels_config": {
    "python": {
     "delete_cmd_postfix": "",
     "delete_cmd_prefix": "del ",
     "library": "var_list.py",
     "varRefreshCmd": "print(var_dic_list())"
    },
    "r": {
     "delete_cmd_postfix": ") ",
     "delete_cmd_prefix": "rm(",
     "library": "var_list.r",
     "varRefreshCmd": "cat(var_dic_list()) "
    }
   },
   "position": {
    "height": "548px",
    "left": "1551px",
    "right": "20px",
    "top": "127px",
    "width": "350px"
   },
   "types_to_exclude": [
    "module",
    "function",
    "builtin_function_or_method",
    "instance",
    "_Feature"
   ],
   "window_display": true
  }
 },
 "nbformat": 4,
 "nbformat_minor": 4
}
